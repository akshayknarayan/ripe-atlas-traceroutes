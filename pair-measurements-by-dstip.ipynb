{
 "cells": [
  {
   "cell_type": "code",
   "execution_count": 1,
   "metadata": {},
   "outputs": [
    {
     "name": "stdout",
     "output_type": "stream",
     "text": [
      "50\n"
     ]
    }
   ],
   "source": [
    "import requests\n",
    "import json\n",
    "res = requests.get(\"https://atlas.ripe.net/api/v2/measurements/traceroute?status=Stopped&sort=-id&format=json\")\n",
    "j = json.loads(res.text)\n",
    "print(len(j['results']))"
   ]
  },
  {
   "cell_type": "code",
   "execution_count": 2,
   "metadata": {},
   "outputs": [
    {
     "name": "stdout",
     "output_type": "stream",
     "text": [
      "1005\n"
     ]
    }
   ],
   "source": [
    "dst_ips = {r['target_ip']:0 for r in j['results']}\n",
    "last_page = j\n",
    "while len(dst_ips) < 1000:\n",
    "    page = json.loads(requests.get(last_page['next']).text)\n",
    "    for r in page['results']:\n",
    "        if r['target_ip'] not in dst_ips:\n",
    "            dst_ips[r['target_ip']] = 0\n",
    "    last_page = page\n",
    "    \n",
    "print(len(dst_ips))"
   ]
  },
  {
   "cell_type": "code",
   "execution_count": 18,
   "metadata": {},
   "outputs": [],
   "source": [
    "def fetch_results(dst_ip):\n",
    "    res = requests.get(f\"https://atlas.ripe.net/api/v2/measurements/traceroute?status=Stopped&sort=-id&target={dst_ip}&format=json\")\n",
    "    j = json.loads(res.text)\n",
    "    return j\n",
    "\n",
    "def find_pairs(res):\n",
    "    if res['count'] < 2:\n",
    "        return []\n",
    "    \n",
    "    res = res['results']\n",
    "    try:\n",
    "        pairs = []\n",
    "        last_time = None\n",
    "        if res[0]['stop_time'] is not None:\n",
    "            last_time = res[0]['stop_time']\n",
    "        elif res[0]['status']['when'] is not None:\n",
    "            last_time = res[0]['status']['when']\n",
    "        else:\n",
    "            assert(False)\n",
    "            \n",
    "        for idx in range(len(res) - 1):\n",
    "            i = idx+1\n",
    "            start = res[i]['start_time']\n",
    "            diff = start - last_time\n",
    "            if diff < 30:\n",
    "                pairs.append((res[i-1]['id'], res[i]['id']))\n",
    "                \n",
    "            if res[0]['stop_time'] is not None:\n",
    "                last_time = res[0]['stop_time']\n",
    "            elif res[0]['status']['when'] is not None:\n",
    "                last_time = res[0]['status']['when']\n",
    "            else:\n",
    "                assert(False)\n",
    "        return pairs\n",
    "    except Exception as e:\n",
    "        print(res)\n",
    "        raise e"
   ]
  },
  {
   "cell_type": "code",
   "execution_count": 19,
   "metadata": {},
   "outputs": [
    {
     "name": "stdout",
     "output_type": "stream",
     "text": [
      "[]\n",
      "[(24757826, 24743499), (24743499, 24636493), (24636493, 24589823), (24589823, 24324633), (24324633, 24259169), (24259169, 24257462), (24257462, 24187178)]\n"
     ]
    }
   ],
   "source": [
    "x = find_pairs(fetch_results('27.71.193.1'))\n",
    "print(x)\n",
    "x = find_pairs(fetch_results(list(dst_ips)[0]))\n",
    "print(x)"
   ]
  },
  {
   "cell_type": "code",
   "execution_count": 20,
   "metadata": {},
   "outputs": [
    {
     "data": {
      "text/plain": [
       "10081"
      ]
     },
     "execution_count": 20,
     "metadata": {},
     "output_type": "execute_result"
    }
   ],
   "source": [
    "# a list of pairs of measurements to the same dest that happened close in time\n",
    "import itertools\n",
    "import concurrent.futures\n",
    "\n",
    "def pairs_for_dip(dip):\n",
    "    return find_pairs(fetch_results(dip))\n",
    "\n",
    "m_pairs = []\n",
    "with concurrent.futures.ThreadPoolExecutor() as rt:\n",
    "    ps = [rt.submit(pairs_for_dip, dip) for dip in dst_ips]\n",
    "    m_pairs = list(itertools.chain.from_iterable(p.result() for p in ps))\n",
    "len(m_pairs)"
   ]
  },
  {
   "cell_type": "code",
   "execution_count": 33,
   "metadata": {},
   "outputs": [
    {
     "name": "stdout",
     "output_type": "stream",
     "text": [
      "['102.163.98.10', '140.238.68.88', '149.7.57.150', '175.144.27.133', '189.238.89.244', '202.187.63.153', '213.218.135.244', '41.86.240.141', '96.30.152.34', '99.239.104.226']\n",
      "['102.163.100.12', '110.159.126.66', '140.238.69.182', '174.114.195.220', '189.172.229.177', '202.186.237.158', '213.218.135.244', '38.111.188.11', '41.86.240.141', '96.30.152.34']\n"
     ]
    }
   ],
   "source": [
    "m_id = m_pairs[0][0]\n",
    "res0 = json.loads(requests.get(f\"https://atlas.ripe.net/api/v2/measurements/{m_id}/results/?format=json\").text)\n",
    "print(sorted([r['from'] for r in res0]))\n",
    "m_id = m_pairs[0][1]\n",
    "res1 = json.loads(requests.get(f\"https://atlas.ripe.net/api/v2/measurements/{m_id}/results/?format=json\").text)\n",
    "print(sorted([r['from'] for r in res1]))"
   ]
  },
  {
   "cell_type": "code",
   "execution_count": 50,
   "metadata": {},
   "outputs": [
    {
     "data": {
      "text/plain": [
       "31898"
      ]
     },
     "execution_count": 50,
     "metadata": {},
     "output_type": "execute_result"
    }
   ],
   "source": [
    "import subprocess\n",
    "\n",
    "def get_asn(ip):\n",
    "    out = subprocess.run(f\"curl https://api.iptoasn.com/v1/as/ip/{ip}\", stdout=subprocess.PIPE, shell=True)\n",
    "    j = json.loads(out.stdout)\n",
    "    return j['as_number']\n",
    "    \n",
    "get_asn('140.238.69.182')"
   ]
  },
  {
   "cell_type": "code",
   "execution_count": 34,
   "metadata": {},
   "outputs": [],
   "source": [
    "from ripe.atlas.sagan import Result\n",
    "\n",
    "def find_matching_src_idxs(xs, ys):\n",
    "    xs_srcs = [r['from'] for r in xs]\n",
    "    ys_srcs = [r['from'] for r in ys]\n",
    "    common = set(xs_srcs) & set(ys_srcs)\n",
    "    idxs = []\n",
    "    for src in common:\n",
    "        x_idx = 0\n",
    "        y_idx = 0\n",
    "        for i in range(len(xs_srcs)):\n",
    "            if xs_srcs[i] == src:\n",
    "                x_idx = i\n",
    "                break\n",
    "        for i in range(len(ys_srcs)):\n",
    "            if ys_srcs[i] == src:\n",
    "                y_idx = i\n",
    "                break\n",
    "        idxs.append((x_idx, y_idx))\n",
    "    return idxs\n",
    "\n",
    "def trim_path(ip_path):\n",
    "    if len(ip_path) < 3:\n",
    "        return []\n",
    "    ases = [get_asn(ip) for ip in ip_path]\n",
    "    middle_ips = []\n",
    "    for asn, ips in itertools.groupby(zip(ases, ip_path), key=lambda x:x[0]):\n",
    "        middle_ips.append((asn, ips))\n",
    "    src_asn = middle_ips[0][0]\n",
    "    dst_asn = middle_ips[-1][0]\n",
    "    middle_ips = [x[1] for x in middle_ips]\n",
    "    return src_asn, dst_asn, list(itertools.chain(*middle_ips[1:-1]))\n",
    "\n",
    "def check_pair(p):\n",
    "    res0 = json.loads(requests.get(f\"https://atlas.ripe.net/api/v2/measurements/{p[0]}/results/?format=json\").text, object_hook=lambda x:[x])\n",
    "    res1 = json.loads(requests.get(f\"https://atlas.ripe.net/api/v2/measurements/{p[1]}/results/?format=json\").text, object_hook=lambda x:[x])\n",
    "    common = find_matching_src_idxs(res0, res1)\n",
    "    ps = []\n",
    "    for r0idx, r1idx in common:\n",
    "        src = res0[r0idx]['from']\n",
    "        r0 = Result.get(res0[r0idx])\n",
    "        r1 = Result.get(res1[r1idx])\n",
    "        r0_ippath = [x[0] for x in r0.ip_path]\n",
    "        r1_ippath = [x[0] for x in r1.ip_path]\n",
    "        \n",
    "        # trim src and dst AS parts\n",
    "        src_asn, dst_asn, r0_ippath = trim_path(r0_ippath)\n",
    "        _, _, r1_ippath = trim_path(r1_ippath)\n",
    "        ps.append({'src_ip': src, 'src_asn': src_asn, 'dst_ip': r0.destination_address, 'dst_asn': dst_asn, 'path': r0_ippath})\n",
    "    \n",
    "    # use intesection over union\n",
    "    #res0_ippath = set(x[0] for x in res0.ip_path)\n",
    "    #res1_ippath = set(x[0] for x in res1.ip_path)\n",
    "    #union = len(res0_ippath | res1_ippath)\n",
    "    #inter = len(res0_ippath & res1_ippath)\n",
    "    #return { 'dst_ip': res0.destination_address, 'iou': float(inter) / union, 'time_sep': res0.end_time - res1.end_time }"
   ]
  },
  {
   "cell_type": "code",
   "execution_count": null,
   "metadata": {},
   "outputs": [],
   "source": []
  },
  {
   "cell_type": "code",
   "execution_count": null,
   "metadata": {},
   "outputs": [],
   "source": [
    "import logging\n",
    "logging.disable(logging.CRITICAL); \n",
    "ps = []\n",
    "for p in m_pairs:\n",
    "    c = check_pair(p)\n",
    "    if c is not None:\n",
    "        ps.append(c)"
   ]
  },
  {
   "cell_type": "code",
   "execution_count": 56,
   "metadata": {},
   "outputs": [
    {
     "name": "stdout",
     "output_type": "stream",
     "text": [
      "10.0.0.4 188.171.192.1 [['140.91.200.23'], ['80.239.196.243'], [None], ['195.219.83.101'], [None], ['80.231.139.41'], ['80.231.139.66'], ['80.231.157.57'], ['212.89.3.226'], [None], [None], [None], [None], [None], [None]]\n"
     ]
    }
   ],
   "source": [
    "def print_pair(p):\n",
    "    res0 = json.loads(requests.get(f\"https://atlas.ripe.net/api/v2/measurements/{p[0]}/results/?format=json\").text)\n",
    "    res1 = json.loads(requests.get(f\"https://atlas.ripe.net/api/v2/measurements/{p[1]}/results/?format=json\").text)\n",
    "    res0 = Result.get(res0[0])\n",
    "    res1 = Result.get(res1[0])\n",
    "    print(res0.source_address, res0.destination_address, res0.ip_path)\n",
    "\n",
    "print_pair(m_pairs[0])"
   ]
  },
  {
   "cell_type": "code",
   "execution_count": null,
   "metadata": {},
   "outputs": [],
   "source": [
    "import rpy2\n",
    "import rpy2.robjects.lib.ggplot2 as ggplot2\n",
    "import rpy2.robjects as ro\n",
    "from rpy2.robjects.packages import importr\n",
    "base = importr('base')\n",
    "\n",
    "# the base of rpy2 plotting is matplotlib, thus we need to declare\n",
    "# it inline in order to see the plots in the notebook\n",
    "%matplotlib inline\n",
    "\n",
    "# we need to activate the automatic conversion for pandas\n",
    "from rpy2.robjects import pandas2ri\n",
    "pandas2ri.activate()\n",
    "\n",
    "# load the needed extension for the %%R cell magic\n",
    "%load_ext rpy2.ipython\n",
    "\n",
    "import pandas as pd\n",
    "import numpy as np\n",
    "\n",
    "import matplotlib.pylab as plt\n",
    "plt.rcParams['figure.dpi'] = 200"
   ]
  },
  {
   "cell_type": "code",
   "execution_count": null,
   "metadata": {},
   "outputs": [],
   "source": [
    "df = pd.DataFrame.from_records(ps)\n",
    "df = df[[\"dst_ip\", \"iou\"]]\n",
    "df"
   ]
  },
  {
   "cell_type": "code",
   "execution_count": null,
   "metadata": {},
   "outputs": [],
   "source": [
    "%%R -i df -w 900 -h 600\n",
    "\n",
    "library(ggplot2)\n",
    "ggplot(df, aes(x=iou)) + stat_ecdf()\n",
    "ggsave(\"traceroutes-iou.pdf\")"
   ]
  },
  {
   "cell_type": "code",
   "execution_count": null,
   "metadata": {},
   "outputs": [],
   "source": []
  }
 ],
 "metadata": {
  "kernelspec": {
   "display_name": "Python 3",
   "language": "python",
   "name": "python3"
  },
  "language_info": {
   "codemirror_mode": {
    "name": "ipython",
    "version": 3
   },
   "file_extension": ".py",
   "mimetype": "text/x-python",
   "name": "python",
   "nbconvert_exporter": "python",
   "pygments_lexer": "ipython3",
   "version": "3.6.9"
  }
 },
 "nbformat": 4,
 "nbformat_minor": 4
}
